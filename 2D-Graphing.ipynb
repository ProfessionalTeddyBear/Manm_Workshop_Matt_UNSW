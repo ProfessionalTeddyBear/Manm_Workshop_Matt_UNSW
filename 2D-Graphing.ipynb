{
 "cells": [
  {
   "cell_type": "code",
   "execution_count": 4,
   "metadata": {},
   "outputs": [],
   "source": [
    "from manim import *\n",
    "import numpy as np"
   ]
  },
  {
   "cell_type": "code",
   "execution_count": 3,
   "metadata": {},
   "outputs": [
    {
     "ename": "IndexError",
     "evalue": "tuple index out of range",
     "output_type": "error",
     "traceback": [
      "\u001b[1;31m---------------------------------------------------------------------------\u001b[0m",
      "\u001b[1;31mIndexError\u001b[0m                                Traceback (most recent call last)",
      "Cell \u001b[1;32mIn[3], line 1\u001b[0m\n\u001b[1;32m----> 1\u001b[0m get_ipython()\u001b[39m.\u001b[39;49mrun_cell_magic(\u001b[39m'\u001b[39;49m\u001b[39mmanim\u001b[39;49m\u001b[39m'\u001b[39;49m, \u001b[39m'\u001b[39;49m\u001b[39m-qm\u001b[39;49m\u001b[39m'\u001b[39;49m, \u001b[39m'\u001b[39;49m\u001b[39m\\n\u001b[39;49;00m\u001b[39mfrom manim import *\u001b[39;49m\u001b[39m\\n\u001b[39;49;00m\u001b[39mimport numpy as np\u001b[39;49m\u001b[39m\\n\u001b[39;49;00m\u001b[39m\\n\u001b[39;49;00m\u001b[39mclass Graphing_Movement(Scene):\u001b[39;49m\u001b[39m\\n\u001b[39;49;00m\u001b[39m\\n\u001b[39;49;00m\u001b[39m    def construct(self):\u001b[39;49m\u001b[39m\\n\u001b[39;49;00m\u001b[39m# This piece of code shows how to graph an implicit curve\u001b[39;49m\u001b[39m\\n\u001b[39;49;00m\u001b[39m# It shows how to move the different pieces of a graph\u001b[39;49m\u001b[39m\\n\u001b[39;49;00m\u001b[39m\\n\u001b[39;49;00m\u001b[39m        xy_axis = Axes(x_range= [-3,3,1],\u001b[39;49m\u001b[39m\\n\u001b[39;49;00m\u001b[39m                    x_length= 6,\u001b[39;49m\u001b[39m\\n\u001b[39;49;00m\u001b[39m                    y_range = [-3,3,1],\u001b[39;49m\u001b[39m\\n\u001b[39;49;00m\u001b[39m                    y_length = 6,\u001b[39;49m\u001b[39m\\n\u001b[39;49;00m\u001b[39m                    axis_config= \u001b[39;49m\u001b[39m{\u001b[39;49m\u001b[39m\"\u001b[39;49m\u001b[39minclude_tip\u001b[39;49m\u001b[39m\"\u001b[39;49m\u001b[39m: True, \u001b[39;49m\u001b[39m\"\u001b[39;49m\u001b[39mnumbers_to_exclude\u001b[39;49m\u001b[39m\"\u001b[39;49m\u001b[39m: [0]}\u001b[39;49m\u001b[39m\\n\u001b[39;49;00m\u001b[39m                    ).add_coordinates()\u001b[39;49m\u001b[39m\\n\u001b[39;49;00m\u001b[39m        \u001b[39;49m\u001b[39m\\n\u001b[39;49;00m\u001b[39m        xy_labels = xy_axis.get_axis_labels(x_label = r\u001b[39;49m\u001b[39m\"\u001b[39;49m\u001b[39mx\u001b[39;49m\u001b[39m\"\u001b[39;49m\u001b[39m, y_label = r\u001b[39;49m\u001b[39m\"\u001b[39;49m\u001b[39mf(x)\u001b[39;49m\u001b[39m\"\u001b[39;49m\u001b[39m)\u001b[39;49m\u001b[39m\\n\u001b[39;49;00m\u001b[39m\\n\u001b[39;49;00m\u001b[39m        curve = xy_axis.plot_implicit_curve(\u001b[39;49m\u001b[39m\\n\u001b[39;49;00m\u001b[39m            lambda x, y: x**2 + y ** 2 - 4,\u001b[39;49m\u001b[39m\\n\u001b[39;49;00m\u001b[39m            color=YELLOW\u001b[39;49m\u001b[39m\\n\u001b[39;49;00m\u001b[39m        )\u001b[39;49m\u001b[39m\\n\u001b[39;49;00m\u001b[39m        self.play(LaggedStart(\u001b[39;49m\u001b[39m\\n\u001b[39;49;00m\u001b[39m            Create(xy_axis),\u001b[39;49m\u001b[39m\\n\u001b[39;49;00m\u001b[39m            Write(xy_labels),\u001b[39;49m\u001b[39m\\n\u001b[39;49;00m\u001b[39m            Create(curve), \u001b[39;49m\u001b[39m\\n\u001b[39;49;00m\u001b[39m            lag_ratio = 1,\u001b[39;49m\u001b[39m\\n\u001b[39;49;00m\u001b[39m            run_time = 2))\u001b[39;49m\u001b[39m\\n\u001b[39;49;00m\u001b[39m        \u001b[39;49m\u001b[39m\\n\u001b[39;49;00m\u001b[39m\\n\u001b[39;49;00m\u001b[39m        self.play(curve.animate.to_edge(LEFT, buff= 0.5))\u001b[39;49m\u001b[39m\\n\u001b[39;49;00m\u001b[39m        \u001b[39;49m\u001b[39m\\n\u001b[39;49;00m\u001b[39m        self.play(xy_axis.animate.to_edge(RIGHT, buff= 0.5))\u001b[39;49m\u001b[39m\\n\u001b[39;49;00m\u001b[39m\\n\u001b[39;49;00m\u001b[39m        self.wait()\u001b[39;49m\u001b[39m\\n\u001b[39;49;00m\u001b[39m'\u001b[39;49m)\n",
      "File \u001b[1;32m~\\AppData\\Roaming\\Python\\Python311\\site-packages\\IPython\\core\\interactiveshell.py:2478\u001b[0m, in \u001b[0;36mInteractiveShell.run_cell_magic\u001b[1;34m(self, magic_name, line, cell)\u001b[0m\n\u001b[0;32m   2476\u001b[0m \u001b[39mwith\u001b[39;00m \u001b[39mself\u001b[39m\u001b[39m.\u001b[39mbuiltin_trap:\n\u001b[0;32m   2477\u001b[0m     args \u001b[39m=\u001b[39m (magic_arg_s, cell)\n\u001b[1;32m-> 2478\u001b[0m     result \u001b[39m=\u001b[39m fn(\u001b[39m*\u001b[39;49margs, \u001b[39m*\u001b[39;49m\u001b[39m*\u001b[39;49mkwargs)\n\u001b[0;32m   2480\u001b[0m \u001b[39m# The code below prevents the output from being displayed\u001b[39;00m\n\u001b[0;32m   2481\u001b[0m \u001b[39m# when using magics with decodator @output_can_be_silenced\u001b[39;00m\n\u001b[0;32m   2482\u001b[0m \u001b[39m# when the last Python token in the expression is a ';'.\u001b[39;00m\n\u001b[0;32m   2483\u001b[0m \u001b[39mif\u001b[39;00m \u001b[39mgetattr\u001b[39m(fn, magic\u001b[39m.\u001b[39mMAGIC_OUTPUT_CAN_BE_SILENCED, \u001b[39mFalse\u001b[39;00m):\n",
      "File \u001b[1;32mC:\\tools\\Manim\\Lib\\site-packages\\manim\\utils\\ipython_magic.py:139\u001b[0m, in \u001b[0;36mManimMagic.manim\u001b[1;34m(self, line, cell, local_ns)\u001b[0m\n\u001b[0;32m    136\u001b[0m     renderer \u001b[39m=\u001b[39m OpenGLRenderer()\n\u001b[0;32m    138\u001b[0m \u001b[39mtry\u001b[39;00m:\n\u001b[1;32m--> 139\u001b[0m     SceneClass \u001b[39m=\u001b[39m local_ns[config[\u001b[39m\"\u001b[39;49m\u001b[39mscene_names\u001b[39;49m\u001b[39m\"\u001b[39;49m][\u001b[39m0\u001b[39;49m]]\n\u001b[0;32m    140\u001b[0m     scene \u001b[39m=\u001b[39m SceneClass(renderer\u001b[39m=\u001b[39mrenderer)\n\u001b[0;32m    141\u001b[0m     scene\u001b[39m.\u001b[39mrender()\n",
      "\u001b[1;31mIndexError\u001b[0m: tuple index out of range"
     ]
    }
   ],
   "source": [
    "%%manim -qm Graphing_Movement\n",
    "\n",
    "class Graphing_Movement(Scene):\n",
    "\n",
    "    def construct(self):\n",
    "# This piece of code shows how to graph an implicit curve\n",
    "# It shows how to move the different pieces of a graph\n",
    "\n",
    "        xy_axis = Axes(x_range= [-3,3,1],\n",
    "                    x_length= 6,\n",
    "                    y_range = [-3,3,1],\n",
    "                    y_length = 6,\n",
    "                    axis_config= {\"include_tip\": True, \"numbers_to_exclude\": [0]}\n",
    "                    ).add_coordinates()\n",
    "        \n",
    "        xy_labels = xy_axis.get_axis_labels(x_label = r\"x\", y_label = r\"f(x)\")\n",
    "\n",
    "        curve = xy_axis.plot_implicit_curve(\n",
    "            lambda x, y: x**2 + y ** 2 - 4,\n",
    "            color=YELLOW\n",
    "        )\n",
    "        self.play(LaggedStart(\n",
    "            Create(xy_axis),\n",
    "            Write(xy_labels),\n",
    "            Create(curve), \n",
    "            lag_ratio = 1,\n",
    "            run_time = 2))\n",
    "        \n",
    "\n",
    "        self.play(curve.animate.to_edge(LEFT, buff= 0.5))\n",
    "        \n",
    "        self.play(xy_axis.animate.to_edge(RIGHT, buff= 0.5))\n",
    "\n",
    "        self.wait()"
   ]
  },
  {
   "cell_type": "code",
   "execution_count": null,
   "metadata": {},
   "outputs": [],
   "source": [
    "%%manim -qm PolarGraph\n",
    "\n",
    "class PolarGraph(Scene):\n",
    "    def construct(self):\n",
    "        e = ValueTracker(0.01)\n",
    "\n",
    "        plane = PolarPlane(radius_max = 3).add_coordinates()\n",
    "\n",
    "        curve_one = always_redraw(lambda: \n",
    "                ParametricFunction(lambda t:\n",
    "                                    plane.polar_to_point(\n",
    "                                        2 * np.sin(3*t),t\n",
    "                                    ),\n",
    "                                    t_range= [0, e.get_value()],\n",
    "                                    color = YELLOW\n",
    "                                    )\n",
    "                                )\n",
    "        \n",
    "        dot_one = always_redraw(lambda:\n",
    "                                Dot(\n",
    "                                    color= YELLOW, \n",
    "                                    fill_opacity=0.8\n",
    "                                    ).scale(1).move_to(curve_one.get_end())\n",
    "                                )\n",
    "        \n",
    "        xy_axis = Axes(\n",
    "            x_range= [-5,5,1],\n",
    "            x_length= 6,\n",
    "            y_range= [-5,5,1],\n",
    "            y_length= 6\n",
    "        )\n",
    "\n",
    "        parameter = ValueTracker(-PI+0.01)\n",
    "        witch = always_redraw(lambda:\n",
    "            ParametricFunction(\n",
    "                lambda u: np.array([\n",
    "                1* u, #x coord\n",
    "                2 / (1 + u**2), #y coord\n",
    "                0 #z coord, it breaks if i remove this\n",
    "            ]), \n",
    "            t_range = np.array([-PI, parameter.get_value()]),\n",
    "            color = PURE_RED\n",
    "            )\n",
    "        )\n",
    "\n",
    "        \n",
    "        dot_two = always_redraw(lambda:\n",
    "            Dot(\n",
    "                color= PURE_RED, \n",
    "                fill_opacity=0.8\n",
    "                ).move_to(witch.get_end())\n",
    "        )\n",
    "        self.add(curve_one, dot_one,xy_axis)\n",
    "        self.play(e.animate.set_value(PI), run_time = 10, rate_func= linear)\n",
    "        self.add(witch, xy_axis, dot_two)\n",
    "        self.play(parameter.animate.set_value(PI), run_time=3, rate_func= linear)\n",
    "        \n",
    "        self.wait()"
   ]
  },
  {
   "cell_type": "code",
   "execution_count": 1,
   "metadata": {},
   "outputs": [
    {
     "data": {
      "text/html": [
       "<pre style=\"white-space:pre;overflow-x:auto;line-height:normal;font-family:Menlo,'DejaVu Sans Mono',consolas,'Courier New',monospace\">Manim Community <span style=\"color: #008000; text-decoration-color: #008000\">v0.17.3</span>\n",
       "\n",
       "</pre>\n"
      ],
      "text/plain": [
       "Manim Community \u001b[32mv0.\u001b[0m\u001b[32m17.3\u001b[0m\n",
       "\n"
      ]
     },
     "metadata": {},
     "output_type": "display_data"
    }
   ],
   "source": [
    "%%manim -pqm Graphing\n",
    "\n",
    "class Graphing(Scene):\n",
    "    def construct(self):\n",
    "        \n",
    "        my_plane= NumberPlane(x_range=[-6,6],\n",
    "                              x_length= 5,\n",
    "                              y_range= [-10,10],\n",
    "                              y_length= 5)\n",
    "        my_plane.add_coordinates()\n",
    "\n",
    "        my_function = my_plane.plot(lambda x: 0.1 * (x+5)*(x)*(x-5),\n",
    "                                    color= YELLOW)\n",
    "        \n",
    "        area_under_curve = my_plane.get_riemann_rectangles(graph= my_function, \n",
    "                                             x_range=[-5,5], \n",
    "                                             color= [BLUE_D, PINK],\n",
    "                                             dx = 0.5,\n",
    "                                             fill_opacity= 0.7,\n",
    "                                             show_signed_area= False\n",
    "                                             )\n",
    "        \n",
    "        horizontal_line = Line(\n",
    "            start= my_plane.c2p(0, my_function.underlying_function(-2)),\n",
    "            end= my_plane.c2p(-2, my_function.underlying_function(-2)),\n",
    "            color = YELLOW,\n",
    "            stroke_width = 5\n",
    "        )\n",
    "\n",
    "\n",
    "        self.play(Write(my_plane))\n",
    "        self.play(Create(my_function))\n",
    "        self.play(Write(area_under_curve))\n",
    "        self.play(Write(horizontal_line))\n",
    "        self.wait()\n",
    "\n",
    "\n"
   ]
  }
 ],
 "metadata": {
  "kernelspec": {
   "display_name": "Python 3",
   "language": "python",
   "name": "python3"
  },
  "language_info": {
   "codemirror_mode": {
    "name": "ipython",
    "version": 3
   },
   "file_extension": ".py",
   "mimetype": "text/x-python",
   "name": "python",
   "nbconvert_exporter": "python",
   "pygments_lexer": "ipython3",
   "version": "3.11.3"
  },
  "orig_nbformat": 4
 },
 "nbformat": 4,
 "nbformat_minor": 2
}
